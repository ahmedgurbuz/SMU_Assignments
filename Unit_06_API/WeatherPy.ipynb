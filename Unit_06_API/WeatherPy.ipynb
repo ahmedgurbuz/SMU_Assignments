{
 "cells": [
  {
   "cell_type": "markdown",
   "metadata": {},
   "source": [
    "**_<div style=\"text-align: center\"> - - -   Ahmed Gurbuz | SMU Data Science Bootcamp   - - -</div>_**"
   ]
  },
  {
   "cell_type": "markdown",
   "metadata": {},
   "source": [
    "# WeatherPy\n",
    "----\n",
    "\n",
    "#### This Python script visualizes the weather of randomly selected 500+ cities across the world of varying distance from the equator and builds a series of scatter plots to showcase the following relationships:\n",
    "\n",
    "* Temperature (F) vs. Latitude\n",
    "* Humidity (%) vs. Latitude\n",
    "* Cloudiness (%) vs. Latitude\n",
    "* Wind Speed (mph) vs. Latitude"
   ]
  },
  {
   "cell_type": "code",
   "execution_count": 1,
   "metadata": {
    "scrolled": true
   },
   "outputs": [],
   "source": [
    "# Dependencies and Setup\n",
    "import matplotlib.pyplot as plt\n",
    "import pandas as pd\n",
    "import numpy as np\n",
    "import requests\n",
    "import time\n",
    "import openweathermapy as ow\n",
    "from pprint import pprint\n",
    "\n",
    "# Import API key\n",
    "from config import openweatherkey\n",
    "\n",
    "# Incorporated citipy to determine city based on latitude and longitude\n",
    "from citipy import citipy\n",
    "\n",
    "# Output File (CSV)\n",
    "output_data_file = \"output_data/cities.csv\"\n",
    "\n",
    "# Range of latitudes and longitudes\n",
    "lat_range = (-90, 90)\n",
    "lng_range = (-180, 180)"
   ]
  },
  {
   "cell_type": "markdown",
   "metadata": {},
   "source": [
    "## Generating Cities List"
   ]
  },
  {
   "cell_type": "code",
   "execution_count": 2,
   "metadata": {},
   "outputs": [
    {
     "data": {
      "text/plain": [
       "609"
      ]
     },
     "execution_count": 2,
     "metadata": {},
     "output_type": "execute_result"
    }
   ],
   "source": [
    "# List for holding lat_lngs and cities\n",
    "lat_lngs = []\n",
    "cities = []\n",
    "\n",
    "# Create a set of random lat and lng combinations\n",
    "lats = np.random.uniform(low=-90.000, high=90.000, size=1500)\n",
    "lngs = np.random.uniform(low=-180.000, high=180.000, size=1500)\n",
    "lat_lngs = zip(lats, lngs)\n",
    "\n",
    "# Identify nearest city for each lat, lng combination\n",
    "for lat_lng in lat_lngs:\n",
    "    city = citipy.nearest_city(lat_lng[0], lat_lng[1]).city_name\n",
    "    \n",
    "    # If the city is unique, then add it to a our cities list\n",
    "    if city not in cities:\n",
    "        cities.append(city)\n",
    "\n",
    "# Print the city count to confirm sufficient count\n",
    "len(cities)"
   ]
  },
  {
   "cell_type": "markdown",
   "metadata": {},
   "source": [
    "### Performing API Calls\n",
    "* Performing a weather check on each city using a series of successive API calls.\n",
    "* Including a print log of each city as it'sbeing processed (with the city number and city name).\n",
    "\n"
   ]
  },
  {
   "cell_type": "code",
   "execution_count": 3,
   "metadata": {},
   "outputs": [
    {
     "name": "stdout",
     "output_type": "stream",
     "text": [
      "<Response [200]>\n",
      "<Response [200]>\n",
      "<Response [200]>\n",
      "<Response [200]>\n",
      "<Response [200]>\n",
      "<Response [200]>\n",
      "<Response [200]>\n",
      "<Response [200]>\n",
      "<Response [200]>\n",
      "<Response [200]>\n"
     ]
    }
   ],
   "source": [
    "# Create a settings dictionary with your API key and preferred unit\n",
    "params = {\"units\": \"imperial\", \"appid\": openweatherkey}\n",
    "\n",
    "# Define base url derived from Open Weather API docs\n",
    "base_url = \"http://api.openweathermap.org/data/2.5/weather?\"\n",
    "\n",
    "# Create a for loop to see if query url built upon the base url works or not \n",
    "# Check first 10 cities API response objects\n",
    "counter = 0\n",
    "for city in cities:\n",
    "    params['q'] = city\n",
    "    if counter == 10:\n",
    "        break\n",
    "    response = requests.get(base_url, params = params)\n",
    "    print(response)\n",
    "    counter = counter + 1"
   ]
  },
  {
   "cell_type": "code",
   "execution_count": 4,
   "metadata": {},
   "outputs": [],
   "source": [
    "#Create Data Frame for the features we will be analyzing for each city\n",
    "data_df = pd.DataFrame(columns=['City','Cloudiness','Country','Date','Humidity','Lat','Lng', 'Max Temp', 'Wind Speed'])"
   ]
  },
  {
   "cell_type": "code",
   "execution_count": null,
   "metadata": {},
   "outputs": [
    {
     "name": "stdout",
     "output_type": "stream",
     "text": [
      "Processing Record 1 of Set 1 | salalah\n",
      "Processing Record 2 of Set 1 | thompson\n",
      "Processing Record 3 of Set 1 | norman wells\n",
      "Processing Record 4 of Set 1 | rio gallegos\n",
      "Processing Record 5 of Set 1 | castro\n",
      "Processing Record 6 of Set 1 | pahrump\n",
      "Processing Record 7 of Set 1 | coihaique\n",
      "Processing Record 8 of Set 1 | la macarena\n",
      "Processing Record 9 of Set 1 | ushuaia\n",
      "Processing Record 10 of Set 1 | carnarvon\n",
      "Processing Record 11 of Set 1 | hobart\n",
      "Processing Record 12 of Set 1 | matamoros\n",
      "Processing Record 13 of Set 1 | egvekinot\n",
      "Processing Record 14 of Set 1 | belushya guba\n",
      "City not found. Skipping...\n",
      "Processing Record 15 of Set 1 | namibe\n",
      "Processing Record 16 of Set 1 | dikson\n",
      "Processing Record 17 of Set 1 | mount gambier\n",
      "Processing Record 18 of Set 1 | mar del plata\n",
      "Processing Record 19 of Set 1 | bolungarvik\n",
      "City not found. Skipping...\n",
      "Processing Record 20 of Set 1 | nome\n",
      "Processing Record 21 of Set 1 | vaitupu\n",
      "City not found. Skipping...\n",
      "Processing Record 22 of Set 1 | wanning\n",
      "Processing Record 23 of Set 1 | albany\n",
      "Processing Record 24 of Set 1 | nizhneyansk\n",
      "City not found. Skipping...\n",
      "Processing Record 25 of Set 1 | jiddah\n",
      "City not found. Skipping...\n",
      "Processing Record 26 of Set 1 | little current\n",
      "Processing Record 27 of Set 1 | mataura\n",
      "Processing Record 28 of Set 1 | georgetown\n",
      "Processing Record 29 of Set 1 | port dover\n",
      "Processing Record 30 of Set 1 | sinnamary\n",
      "Processing Record 31 of Set 1 | punta arenas\n",
      "Processing Record 32 of Set 1 | rikitea\n",
      "Processing Record 33 of Set 1 | batamshinskiy\n",
      "Processing Record 34 of Set 1 | tarabuco\n",
      "Processing Record 35 of Set 1 | komsomolskiy\n",
      "Processing Record 36 of Set 1 | nanakuli\n",
      "Processing Record 37 of Set 1 | saint-philippe\n",
      "Processing Record 38 of Set 1 | ponta do sol\n",
      "Processing Record 39 of Set 1 | busselton\n",
      "Processing Record 40 of Set 1 | geraldton\n",
      "Processing Record 41 of Set 1 | codrington\n",
      "Processing Record 42 of Set 1 | bongandanga\n",
      "Processing Record 43 of Set 1 | puerto ayora\n",
      "Processing Record 44 of Set 1 | tuatapere\n",
      "Processing Record 45 of Set 1 | port alfred\n",
      "Processing Record 46 of Set 1 | warqla\n",
      "City not found. Skipping...\n",
      "Processing Record 47 of Set 1 | lagoa\n",
      "Processing Record 48 of Set 1 | hilo\n",
      "Processing Record 49 of Set 1 | tsihombe\n",
      "City not found. Skipping...\n",
      "Processing Record 50 of Set 1 | yarada\n",
      "Processing Record 51 of Set 1 | barrow\n",
      "Processing Record 52 of Set 1 | metro\n",
      "Processing Record 53 of Set 1 | roros\n",
      "Processing Record 54 of Set 1 | ayagoz\n",
      "Processing Record 55 of Set 1 | lompoc\n",
      "Processing Record 56 of Set 1 | oksfjord\n",
      "Processing Record 57 of Set 1 | huarmey\n",
      "Processing Record 58 of Set 1 | los llanos de aridane\n",
      "Processing Record 59 of Set 1 | cockburn town\n",
      "Processing Record 60 of Set 1 | cabo san lucas\n",
      "Processing Record 1 of Set 1 | constitucion\n",
      "Processing Record 2 of Set 1 | hithadhoo\n",
      "Processing Record 3 of Set 1 | yuxia\n",
      "Processing Record 4 of Set 1 | bambous virieux\n",
      "Processing Record 5 of Set 1 | khatanga\n",
      "Processing Record 6 of Set 1 | saint-pierre\n",
      "Processing Record 7 of Set 1 | windhoek\n",
      "Processing Record 8 of Set 1 | taolanaro\n",
      "City not found. Skipping...\n",
      "Processing Record 9 of Set 1 | bethel\n",
      "Processing Record 10 of Set 1 | leningradskiy\n",
      "Processing Record 11 of Set 1 | ilulissat\n",
      "Processing Record 12 of Set 1 | rosetta\n",
      "Processing Record 13 of Set 1 | gat\n",
      "Processing Record 14 of Set 1 | waddan\n",
      "Processing Record 15 of Set 1 | newton\n",
      "Processing Record 16 of Set 1 | kuytun\n",
      "Processing Record 17 of Set 1 | bluff\n",
      "Processing Record 18 of Set 1 | new norfolk\n",
      "Processing Record 19 of Set 1 | miyako\n",
      "Processing Record 20 of Set 1 | chokurdakh\n",
      "Processing Record 21 of Set 1 | hermanus\n",
      "Processing Record 22 of Set 1 | yatou\n",
      "Processing Record 23 of Set 1 | jamestown\n",
      "Processing Record 24 of Set 1 | kasiri\n",
      "Processing Record 25 of Set 1 | ambon\n",
      "Processing Record 26 of Set 1 | butaritari\n",
      "Processing Record 27 of Set 1 | kapaa\n",
      "Processing Record 28 of Set 1 | east london\n",
      "Processing Record 29 of Set 1 | cape town\n",
      "Processing Record 30 of Set 1 | longyearbyen\n",
      "Processing Record 31 of Set 1 | shache\n",
      "Processing Record 32 of Set 1 | biloela\n",
      "Processing Record 33 of Set 1 | tarapur\n",
      "Processing Record 34 of Set 1 | wajima\n",
      "Processing Record 35 of Set 1 | araouane\n",
      "Processing Record 36 of Set 1 | mys shmidta\n",
      "City not found. Skipping...\n",
      "Processing Record 37 of Set 1 | ribeira grande\n",
      "Processing Record 38 of Set 1 | samusu\n",
      "City not found. Skipping...\n",
      "Processing Record 39 of Set 1 | camacha\n",
      "Processing Record 40 of Set 1 | pangody\n",
      "Processing Record 41 of Set 1 | kalmunai\n",
      "Processing Record 42 of Set 1 | nanortalik\n",
      "Processing Record 43 of Set 1 | aasiaat\n",
      "Processing Record 44 of Set 1 | palampur\n",
      "Processing Record 45 of Set 1 | beringovskiy\n",
      "Processing Record 46 of Set 1 | chinhoyi\n",
      "Processing Record 47 of Set 1 | guerrero negro\n",
      "Processing Record 48 of Set 1 | illoqqortoormiut\n",
      "City not found. Skipping...\n",
      "Processing Record 49 of Set 1 | whitehorse\n",
      "Processing Record 50 of Set 1 | tiwi\n",
      "Processing Record 51 of Set 1 | qaanaaq\n",
      "Processing Record 52 of Set 1 | bredasdorp\n",
      "Processing Record 53 of Set 1 | hammerfest\n",
      "Processing Record 54 of Set 1 | uchaly\n",
      "Processing Record 55 of Set 1 | coquimbo\n",
      "Processing Record 56 of Set 1 | oranjemund\n",
      "Processing Record 57 of Set 1 | port lincoln\n",
      "Processing Record 58 of Set 1 | rocha\n",
      "Processing Record 59 of Set 1 | poum\n",
      "Processing Record 60 of Set 1 | abu dhabi\n",
      "Processing Record 1 of Set 1 | maragogi\n",
      "Processing Record 2 of Set 1 | saint george\n",
      "Processing Record 3 of Set 1 | mujiayingzi\n",
      "Processing Record 4 of Set 1 | minna\n",
      "Processing Record 5 of Set 1 | goure\n",
      "Processing Record 6 of Set 1 | shingu\n",
      "Processing Record 7 of Set 1 | pisco\n",
      "Processing Record 8 of Set 1 | la ronge\n",
      "Processing Record 9 of Set 1 | avarua\n",
      "Processing Record 10 of Set 1 | myitkyina\n",
      "Processing Record 11 of Set 1 | naze\n",
      "Processing Record 12 of Set 1 | jinchang\n",
      "Processing Record 13 of Set 1 | nuuk\n",
      "Processing Record 14 of Set 1 | kodiak\n",
      "Processing Record 15 of Set 1 | lebu\n",
      "Processing Record 16 of Set 1 | amderma\n",
      "City not found. Skipping...\n",
      "Processing Record 17 of Set 1 | vaini\n",
      "Processing Record 18 of Set 1 | tezu\n",
      "Processing Record 19 of Set 1 | yenagoa\n",
      "Processing Record 20 of Set 1 | tabuk\n",
      "Processing Record 21 of Set 1 | upernavik\n",
      "Processing Record 22 of Set 1 | kodinsk\n",
      "Processing Record 23 of Set 1 | cherskiy\n",
      "Processing Record 24 of Set 1 | igarka\n",
      "Processing Record 25 of Set 1 | placido de castro\n",
      "Processing Record 26 of Set 1 | saleaula\n",
      "City not found. Skipping...\n",
      "Processing Record 27 of Set 1 | madison\n",
      "Processing Record 28 of Set 1 | moroni\n",
      "Processing Record 29 of Set 1 | okhotsk\n",
      "Processing Record 30 of Set 1 | faya\n",
      "Processing Record 31 of Set 1 | tasiilaq\n",
      "Processing Record 32 of Set 1 | fort smith\n",
      "Processing Record 33 of Set 1 | la asuncion\n",
      "Processing Record 34 of Set 1 | nikolskoye\n",
      "Processing Record 35 of Set 1 | walvis bay\n",
      "Processing Record 36 of Set 1 | atuona\n",
      "Processing Record 37 of Set 1 | prince albert\n",
      "Processing Record 38 of Set 1 | gurmatkal\n",
      "Processing Record 39 of Set 1 | caravelas\n",
      "Processing Record 40 of Set 1 | kosh-agach\n",
      "Processing Record 41 of Set 1 | issaquah\n",
      "Processing Record 42 of Set 1 | cervo\n",
      "Processing Record 43 of Set 1 | torbay\n",
      "Processing Record 44 of Set 1 | norrtalje\n",
      "Processing Record 45 of Set 1 | awash\n",
      "Processing Record 46 of Set 1 | margate\n",
      "Processing Record 47 of Set 1 | necochea\n",
      "Processing Record 48 of Set 1 | nouadhibou\n",
      "Processing Record 49 of Set 1 | dingle\n",
      "Processing Record 50 of Set 1 | dori\n",
      "Processing Record 51 of Set 1 | altay\n",
      "Processing Record 52 of Set 1 | deputatskiy\n",
      "Processing Record 53 of Set 1 | ostersund\n",
      "Processing Record 54 of Set 1 | urdzhar\n",
      "City not found. Skipping...\n",
      "Processing Record 55 of Set 1 | sistranda\n",
      "Processing Record 56 of Set 1 | buraydah\n",
      "Processing Record 57 of Set 1 | henties bay\n",
      "Processing Record 58 of Set 1 | kenai\n",
      "Processing Record 59 of Set 1 | san patricio\n",
      "Processing Record 60 of Set 1 | skibbereen\n"
     ]
    }
   ],
   "source": [
    "#Create counters for the loop\n",
    "set_count = 1\n",
    "record_count = 1\n",
    "\n",
    "#Create loop\n",
    "#Gathering information from Openweather API for each city\n",
    "for i, city in enumerate(cities): \n",
    "    params[\"q\"] = city\n",
    "    \n",
    "    # Create conditional\n",
    "    # Create a set for every 60 cities\n",
    "    if (i % 60 == 0 and i > 50):\n",
    "        set_count =+1\n",
    "        record_count = 1\n",
    "    # Giving a break while fetching data not to exceed API (Open Weather API restricts 60 calls per minute for free accounts)\n",
    "        time.sleep(50)\n",
    "    # Create try/except condition to catch and see that city information can be found or not from API call\n",
    "    try:\n",
    "        print(f\"Processing Record {record_count} of Set {set_count} | {city}\")\n",
    "        # Create get request to achieve response object and convert it into JSON\n",
    "        response = requests.get(base_url, params = params).json()\n",
    "        # Filling Data Frame with information fetched from API (API docs)\n",
    "        data_df.loc[i, \"City\"] = city\n",
    "        data_df.loc[i, \"Cloudiness\"] = response['clouds']['all']\n",
    "        data_df.loc[i, \"Country\"] = response['sys']['country']      \n",
    "        data_df.loc[i, \"Date\"] = response['dt']       \n",
    "        data_df.loc[i, \"Humidity\"] = response['main']['humidity']  \n",
    "        data_df.loc[i, \"Lat\"] = response['coord']['lat']\n",
    "        data_df.loc[i, \"Lng\"] = response['coord']['lon']\n",
    "        data_df.loc[i, \"Max Temp\"] = response['main']['temp_max']\n",
    "        data_df.loc[i, \"Wind Speed\"] = response['wind']['speed']              \n",
    "    # Print 'City not found' if the API request gets no response\n",
    "    except:\n",
    "        print(f\"City not found. Skipping...\") \n",
    "    record_count += 1\n",
    "# Print out when data retrieval completed                 \n",
    "print(\"Data retrieval finished\")"
   ]
  },
  {
   "cell_type": "markdown",
   "metadata": {},
   "source": [
    "### Convert Raw Data to DataFrame\n",
    "* Export the city data into a .csv.\n",
    "* Display the DataFrame"
   ]
  },
  {
   "cell_type": "code",
   "execution_count": null,
   "metadata": {},
   "outputs": [],
   "source": [
    "# Export the city data into a csv file\n",
    "data_csv = data_df.to_csv(r\"C:\\Users\\AG\\Documents\\SMU_Assignments\\Unit_06_API\\data.csv\", index = None, header=True)"
   ]
  },
  {
   "cell_type": "code",
   "execution_count": null,
   "metadata": {},
   "outputs": [],
   "source": [
    "# Display the Data Frame\n",
    "data_df"
   ]
  },
  {
   "cell_type": "code",
   "execution_count": null,
   "metadata": {},
   "outputs": [],
   "source": [
    "# Ignoring the rows that include missing data \n",
    "data_df.dropna(inplace= True)\n",
    "\n",
    "# Converting unix date format into readable version\n",
    "data_df['Date'] = pd.to_datetime(data_df['Date'],unit='s')\n",
    "\n",
    "# Display cleaned Data Frame\n",
    "data_df"
   ]
  },
  {
   "cell_type": "markdown",
   "metadata": {},
   "source": [
    "### Plotting the Data\n",
    "* Use proper labeling of the plots using plot titles (including date of analysis) and axes labels.\n",
    "* Save the plotted figures as .pngs."
   ]
  },
  {
   "cell_type": "markdown",
   "metadata": {},
   "source": [
    "#### Latitude vs. Temperature Plot"
   ]
  },
  {
   "cell_type": "code",
   "execution_count": null,
   "metadata": {},
   "outputs": [],
   "source": [
    "# Create scatter plot to compare Lattitude and Max Temp. of the randomly selected cities in the Data Frame\n",
    "plt.scatter(data_df[\"Lat\"], data_df[\"Max Temp\"], edgecolor = 'black')\n",
    "\n",
    "# Give the chart a title, x label, y label and grid\n",
    "plt.title(\"City Latitude vs. Max Temperature (09/29/2019)\")\n",
    "plt.xlabel(\"Latitude\")\n",
    "plt.ylabel(\"Max Temperature (F)\")\n",
    "\n",
    "# Plot grid\n",
    "plt.grid(True)\n",
    "\n",
    "#Plot vertical line at 0 latitude (equator)\n",
    "plt.axvline(x=0, color = 'black')\n",
    "\n",
    "# Save the Figure\n",
    "plt.savefig(r\"C:\\Users\\AG\\Documents\\SMU_Assignments\\Unit_06_API\\plots\\lat_and_max_temp.png\")\n",
    "\n",
    "# Show the Figure\n",
    "plt.show()"
   ]
  },
  {
   "cell_type": "markdown",
   "metadata": {},
   "source": [
    "#### Latitude vs. Humidity Plot"
   ]
  },
  {
   "cell_type": "code",
   "execution_count": null,
   "metadata": {},
   "outputs": [],
   "source": [
    "# Create scatter plot to compare Lattitude and Max Temp. of the randomly selected cities in the Data Frame\n",
    "plt.scatter(data_df[\"Lat\"], data_df[\"Humidity\"], edgecolor = 'black')\n",
    "\n",
    "# Give the chart a title, x label, y label and grid\n",
    "plt.title(\"City Latitude vs. Humidity (09/29/2019)\")\n",
    "plt.xlabel(\"Latitude\")\n",
    "plt.ylabel(\"Humidity (%)\")\n",
    "\n",
    "# Plot grid\n",
    "plt.grid(True)\n",
    "\n",
    "#Plot vertical line at 0 latitude (equator)\n",
    "plt.axvline(x=0, color = 'black')\n",
    "\n",
    "# Save the Figure\n",
    "plt.savefig(r\"C:\\Users\\AG\\Documents\\SMU_Assignments\\Unit_06_API\\plots\\lat_and_humidity.png\")\n",
    "\n",
    "# Show the Figure\n",
    "plt.show()"
   ]
  },
  {
   "cell_type": "markdown",
   "metadata": {},
   "source": [
    "#### Latitude vs. Cloudiness Plot"
   ]
  },
  {
   "cell_type": "code",
   "execution_count": null,
   "metadata": {},
   "outputs": [],
   "source": [
    "# Create scatter plot to compare Lattitude and Max Temp. of the randomly selected cities in the Data Frame\n",
    "plt.scatter(data_df[\"Lat\"], data_df[\"Cloudiness\"], edgecolor = 'black')\n",
    "\n",
    "# Give the chart a title, x label, y label and grid\n",
    "plt.title(\"City Latitude vs. Cloudiness (09/29/2019)\")\n",
    "plt.xlabel(\"Latitude\")\n",
    "plt.ylabel(\"Cloudiness (%)\")\n",
    "\n",
    "# Plot grid\n",
    "plt.grid(True)\n",
    "\n",
    "#Plot vertical line at 0 latitude (equator)\n",
    "plt.axvline(x=0, color = 'black')\n",
    "\n",
    "# Save the Figure\n",
    "plt.savefig(r\"C:\\Users\\AG\\Documents\\SMU_Assignments\\Unit_06_API\\plots\\lat_and_cloudiness.png\")\n",
    "\n",
    "# Show the Figure\n",
    "plt.show()"
   ]
  },
  {
   "cell_type": "markdown",
   "metadata": {},
   "source": [
    "#### Latitude vs. Wind Speed Plot"
   ]
  },
  {
   "cell_type": "code",
   "execution_count": null,
   "metadata": {},
   "outputs": [],
   "source": [
    "# Create scatter plot to compare Lattitude and Max Temp. of the randomly selected cities in the Data Frame\n",
    "plt.scatter(data_df[\"Lat\"], data_df[\"Wind Speed\"], edgecolor = 'black')\n",
    "\n",
    "# Give the chart a title, x label, y label and grid\n",
    "plt.title(\"City Latitude vs. Wind Speed (mph) (09/29/2019)\")\n",
    "plt.xlabel(\"Latitude\")\n",
    "plt.ylabel(\"Wind Speed (mph)\")\n",
    "\n",
    "# Plot grid\n",
    "plt.grid(True)\n",
    "\n",
    "# Plot vertical line at 0 latitude (equator)\n",
    "plt.axvline(x=0, color = 'black')\n",
    "\n",
    "# Save the Figure\n",
    "plt.savefig(r\"C:\\Users\\AG\\Documents\\SMU_Assignments\\Unit_06_API\\plots\\lat_and_windspeed.png\")\n",
    "\n",
    "# Show the Figure\n",
    "plt.show()"
   ]
  }
 ],
 "metadata": {
  "anaconda-cloud": {},
  "kernel_info": {
   "name": "python3"
  },
  "kernelspec": {
   "display_name": "Python 3",
   "language": "python",
   "name": "python3"
  },
  "language_info": {
   "codemirror_mode": {
    "name": "ipython",
    "version": 3
   },
   "file_extension": ".py",
   "mimetype": "text/x-python",
   "name": "python",
   "nbconvert_exporter": "python",
   "pygments_lexer": "ipython3",
   "version": "3.7.1"
  },
  "nteract": {
   "version": "0.12.3"
  }
 },
 "nbformat": 4,
 "nbformat_minor": 2
}
