{
 "cells": [
  {
   "cell_type": "markdown",
   "metadata": {},
   "source": [
    "**_<div style=\"text-align: center\"> Ahmed Gurbuz | SMU Data Science Bootcamp </div>_**"
   ]
  },
  {
   "cell_type": "markdown",
   "metadata": {},
   "source": [
    "# WeatherPy\n",
    "----\n",
    "\n",
    "#### This Python script visualizes the weather of randomly selected 500+ cities across the world of varying distance from the equator and builds a series of scatter plots to showcase the following relationships:\n",
    "\n",
    "* Temperature (F) vs. Latitude\n",
    "* Humidity (%) vs. Latitude\n",
    "* Cloudiness (%) vs. Latitude\n",
    "* Wind Speed (mph) vs. Latitude"
   ]
  },
  {
   "cell_type": "code",
   "execution_count": 40,
   "metadata": {
    "scrolled": true
   },
   "outputs": [],
   "source": [
    "# Dependencies and Setup\n",
    "import matplotlib.pyplot as plt\n",
    "import pandas as pd\n",
    "import numpy as np\n",
    "import requests\n",
    "import time\n",
    "import openweathermapy as ow\n",
    "from pprint import pprint\n",
    "\n",
    "# Import API key\n",
    "from config import openweatherkey\n",
    "\n",
    "# Incorporated citipy to determine city based on latitude and longitude\n",
    "from citipy import citipy\n",
    "\n",
    "# Output File (CSV)\n",
    "output_data_file = \"output_data/cities.csv\"\n",
    "\n",
    "# Range of latitudes and longitudes\n",
    "lat_range = (-90, 90)\n",
    "lng_range = (-180, 180)"
   ]
  },
  {
   "cell_type": "markdown",
   "metadata": {},
   "source": [
    "## Generating Cities List"
   ]
  },
  {
   "cell_type": "code",
   "execution_count": 41,
   "metadata": {},
   "outputs": [
    {
     "data": {
      "text/plain": [
       "617"
      ]
     },
     "execution_count": 41,
     "metadata": {},
     "output_type": "execute_result"
    }
   ],
   "source": [
    "# List for holding lat_lngs and cities\n",
    "lat_lngs = []\n",
    "cities = []\n",
    "\n",
    "# Create a set of random lat and lng combinations\n",
    "lats = np.random.uniform(low=-90.000, high=90.000, size=1500)\n",
    "lngs = np.random.uniform(low=-180.000, high=180.000, size=1500)\n",
    "lat_lngs = zip(lats, lngs)\n",
    "\n",
    "# Identify nearest city for each lat, lng combination\n",
    "for lat_lng in lat_lngs:\n",
    "    city = citipy.nearest_city(lat_lng[0], lat_lng[1]).city_name\n",
    "    \n",
    "    # If the city is unique, then add it to a our cities list\n",
    "    if city not in cities:\n",
    "        cities.append(city)\n",
    "\n",
    "# Print the city count to confirm sufficient count\n",
    "len(cities)"
   ]
  },
  {
   "cell_type": "markdown",
   "metadata": {},
   "source": [
    "### Performing API Calls\n",
    "* Performing a weather check on each city using a series of successive API calls.\n",
    "* Including a print log of each city as it'sbeing processed (with the city number and city name).\n",
    "\n"
   ]
  },
  {
   "cell_type": "code",
   "execution_count": 42,
   "metadata": {},
   "outputs": [
    {
     "name": "stdout",
     "output_type": "stream",
     "text": [
      "<Response [200]>\n",
      "<Response [200]>\n",
      "<Response [200]>\n",
      "<Response [404]>\n",
      "<Response [200]>\n",
      "<Response [200]>\n",
      "<Response [404]>\n",
      "<Response [200]>\n",
      "<Response [200]>\n",
      "<Response [200]>\n"
     ]
    }
   ],
   "source": [
    "# Create a settings dictionary with your API key and preferred unit\n",
    "params = {\"units\": \"imperial\", \"appid\": openweatherkey}\n",
    "\n",
    "# Define base url derived from Open Weather API docs\n",
    "base_url = \"http://api.openweathermap.org/data/2.5/weather?\"\n",
    "\n",
    "# Create a for loop to see if query url built upon the base url works or not \n",
    "# Check first 10 cities API response objects\n",
    "counter = 0\n",
    "for city in cities:\n",
    "    params['q'] = city\n",
    "    if counter == 10:\n",
    "        break\n",
    "    response = requests.get(base_url, params = params)\n",
    "    print(response)\n",
    "    counter = counter + 1"
   ]
  },
  {
   "cell_type": "code",
   "execution_count": 30,
   "metadata": {},
   "outputs": [],
   "source": [
    "#Create Data Frame for the features we will be analyzing for each city\n",
    "data_df = pd.DataFrame(columns=['City','Cloudiness','Country','Date','Humidity','Lat','Lng', 'Max Temp', 'Wind Speed'])"
   ]
  },
  {
   "cell_type": "code",
   "execution_count": 31,
   "metadata": {},
   "outputs": [
    {
     "name": "stdout",
     "output_type": "stream",
     "text": [
      "Processing Record 1 of Set 1 | aklavik\n",
      "Processing Record 2 of Set 1 | atuona\n",
      "Processing Record 3 of Set 1 | zelenets\n",
      "Processing Record 4 of Set 1 | carnarvon\n",
      "Processing Record 5 of Set 1 | illoqqortoormiut\n",
      "City not found. Skipping...\n",
      "Processing Record 6 of Set 1 | dakar\n",
      "Data retrieval finished\n"
     ]
    }
   ],
   "source": [
    "#Create counters for the loop\n",
    "set_count = 1\n",
    "record_count = 1\n",
    "\n",
    "#Create loop\n",
    "#Gathering information from Openweather API for each city\n",
    "for i, city in enumerate(cities): \n",
    "    params[\"q\"] = city\n",
    "    \n",
    "    # Create conditional\n",
    "    # Create a set for every 60 cities\n",
    "    if (i % 60 == 0 and i > 50):\n",
    "        set_count =+1\n",
    "        record_count = 1\n",
    "        # Giving a break to fetch data\n",
    "        time.sleep(50)\n",
    "    # Create try/except condition to catch and see that city information can be found or not from API call\n",
    "    try:\n",
    "        print(f\"Processing Record {record_count} of Set {set_count} | {city}\")\n",
    "        # Create get request to achieve response object and convert it into JSON\n",
    "        response = requests.get(base_url, params = params).json()\n",
    "        # Filling Data Frame with information fetched from API (API docs)\n",
    "        data_df.loc[i, \"City\"] = city\n",
    "        data_df.loc[i, \"Cloudiness\"] = response['clouds']['all']\n",
    "        data_df.loc[i, \"Country\"] = response['sys']['country']      \n",
    "        data_df.loc[i, \"Date\"] = response['dt']       \n",
    "        data_df.loc[i, \"Humidity\"] = response['main']['humidity']  \n",
    "        data_df.loc[i, \"Lat\"] = response['coord']['lat']\n",
    "        data_df.loc[i, \"Lng\"] = response['coord']['lon']\n",
    "        data_df.loc[i, \"Max Temp\"] = response['main']['temp_max']\n",
    "        data_df.loc[i, \"Wind Speed\"] = response['wind']['speed']              \n",
    "    # Print 'City not found' if the API request gets no response\n",
    "    except:\n",
    "        print(f\"City not found. Skipping...\") \n",
    "    if i == 5:\n",
    "        break\n",
    "    record_count += 1\n",
    "# Print out when data retrieval completed                 \n",
    "print(\"Data retrieval finished\")"
   ]
  },
  {
   "cell_type": "markdown",
   "metadata": {},
   "source": [
    "### Convert Raw Data to DataFrame\n",
    "* Export the city data into a .csv.\n",
    "* Display the DataFrame"
   ]
  },
  {
   "cell_type": "code",
   "execution_count": 32,
   "metadata": {},
   "outputs": [],
   "source": [
    "# Export the city data into a csv file\n",
    "data_csv = data_df.to_csv(r\"C:\\Users\\AG\\Documents\\SMU_Assignments\\Unit_06_API\\data.csv\", index = None, header=True)"
   ]
  },
  {
   "cell_type": "code",
   "execution_count": 37,
   "metadata": {},
   "outputs": [
    {
     "data": {
      "text/html": [
       "<div>\n",
       "<style scoped>\n",
       "    .dataframe tbody tr th:only-of-type {\n",
       "        vertical-align: middle;\n",
       "    }\n",
       "\n",
       "    .dataframe tbody tr th {\n",
       "        vertical-align: top;\n",
       "    }\n",
       "\n",
       "    .dataframe thead th {\n",
       "        text-align: right;\n",
       "    }\n",
       "</style>\n",
       "<table border=\"1\" class=\"dataframe\">\n",
       "  <thead>\n",
       "    <tr style=\"text-align: right;\">\n",
       "      <th></th>\n",
       "      <th>City</th>\n",
       "      <th>Cloudiness</th>\n",
       "      <th>Country</th>\n",
       "      <th>Date</th>\n",
       "      <th>Humidity</th>\n",
       "      <th>Lat</th>\n",
       "      <th>Lng</th>\n",
       "      <th>Max Temp</th>\n",
       "      <th>Wind Speed</th>\n",
       "    </tr>\n",
       "  </thead>\n",
       "  <tbody>\n",
       "    <tr>\n",
       "      <th>0</th>\n",
       "      <td>aklavik</td>\n",
       "      <td>75</td>\n",
       "      <td>CA</td>\n",
       "      <td>1569811507</td>\n",
       "      <td>52</td>\n",
       "      <td>68.22</td>\n",
       "      <td>-135.01</td>\n",
       "      <td>44.6</td>\n",
       "      <td>3.36</td>\n",
       "    </tr>\n",
       "    <tr>\n",
       "      <th>1</th>\n",
       "      <td>atuona</td>\n",
       "      <td>21</td>\n",
       "      <td>PF</td>\n",
       "      <td>1569811508</td>\n",
       "      <td>80</td>\n",
       "      <td>-9.8</td>\n",
       "      <td>-139.03</td>\n",
       "      <td>79.25</td>\n",
       "      <td>20.27</td>\n",
       "    </tr>\n",
       "    <tr>\n",
       "      <th>2</th>\n",
       "      <td>zelenets</td>\n",
       "      <td>98</td>\n",
       "      <td>RU</td>\n",
       "      <td>1569811513</td>\n",
       "      <td>74</td>\n",
       "      <td>53.83</td>\n",
       "      <td>48.02</td>\n",
       "      <td>42.53</td>\n",
       "      <td>15.37</td>\n",
       "    </tr>\n",
       "    <tr>\n",
       "      <th>3</th>\n",
       "      <td>carnarvon</td>\n",
       "      <td>75</td>\n",
       "      <td>ZA</td>\n",
       "      <td>1569811513</td>\n",
       "      <td>70</td>\n",
       "      <td>-30.97</td>\n",
       "      <td>22.13</td>\n",
       "      <td>43.79</td>\n",
       "      <td>19.08</td>\n",
       "    </tr>\n",
       "    <tr>\n",
       "      <th>5</th>\n",
       "      <td>dakar</td>\n",
       "      <td>40</td>\n",
       "      <td>SN</td>\n",
       "      <td>1569811397</td>\n",
       "      <td>88</td>\n",
       "      <td>14.69</td>\n",
       "      <td>-17.45</td>\n",
       "      <td>78.8</td>\n",
       "      <td>1.12</td>\n",
       "    </tr>\n",
       "  </tbody>\n",
       "</table>\n",
       "</div>"
      ],
      "text/plain": [
       "        City Cloudiness Country        Date Humidity    Lat     Lng Max Temp  \\\n",
       "0    aklavik         75      CA  1569811507       52  68.22 -135.01     44.6   \n",
       "1     atuona         21      PF  1569811508       80   -9.8 -139.03    79.25   \n",
       "2   zelenets         98      RU  1569811513       74  53.83   48.02    42.53   \n",
       "3  carnarvon         75      ZA  1569811513       70 -30.97   22.13    43.79   \n",
       "5      dakar         40      SN  1569811397       88  14.69  -17.45     78.8   \n",
       "\n",
       "  Wind Speed  \n",
       "0       3.36  \n",
       "1      20.27  \n",
       "2      15.37  \n",
       "3      19.08  \n",
       "5       1.12  "
      ]
     },
     "execution_count": 37,
     "metadata": {},
     "output_type": "execute_result"
    }
   ],
   "source": [
    "# Display the Data Frame\n",
    "data_df"
   ]
  },
  {
   "cell_type": "code",
   "execution_count": 43,
   "metadata": {},
   "outputs": [
    {
     "data": {
      "text/html": [
       "<div>\n",
       "<style scoped>\n",
       "    .dataframe tbody tr th:only-of-type {\n",
       "        vertical-align: middle;\n",
       "    }\n",
       "\n",
       "    .dataframe tbody tr th {\n",
       "        vertical-align: top;\n",
       "    }\n",
       "\n",
       "    .dataframe thead th {\n",
       "        text-align: right;\n",
       "    }\n",
       "</style>\n",
       "<table border=\"1\" class=\"dataframe\">\n",
       "  <thead>\n",
       "    <tr style=\"text-align: right;\">\n",
       "      <th></th>\n",
       "      <th>City</th>\n",
       "      <th>Cloudiness</th>\n",
       "      <th>Country</th>\n",
       "      <th>Date</th>\n",
       "      <th>Humidity</th>\n",
       "      <th>Lat</th>\n",
       "      <th>Lng</th>\n",
       "      <th>Max Temp</th>\n",
       "      <th>Wind Speed</th>\n",
       "    </tr>\n",
       "  </thead>\n",
       "  <tbody>\n",
       "    <tr>\n",
       "      <th>0</th>\n",
       "      <td>aklavik</td>\n",
       "      <td>75</td>\n",
       "      <td>CA</td>\n",
       "      <td>2019-09-30 02:45:07</td>\n",
       "      <td>52</td>\n",
       "      <td>68.22</td>\n",
       "      <td>-135.01</td>\n",
       "      <td>44.6</td>\n",
       "      <td>3.36</td>\n",
       "    </tr>\n",
       "    <tr>\n",
       "      <th>1</th>\n",
       "      <td>atuona</td>\n",
       "      <td>21</td>\n",
       "      <td>PF</td>\n",
       "      <td>2019-09-30 02:45:08</td>\n",
       "      <td>80</td>\n",
       "      <td>-9.8</td>\n",
       "      <td>-139.03</td>\n",
       "      <td>79.25</td>\n",
       "      <td>20.27</td>\n",
       "    </tr>\n",
       "    <tr>\n",
       "      <th>2</th>\n",
       "      <td>zelenets</td>\n",
       "      <td>98</td>\n",
       "      <td>RU</td>\n",
       "      <td>2019-09-30 02:45:13</td>\n",
       "      <td>74</td>\n",
       "      <td>53.83</td>\n",
       "      <td>48.02</td>\n",
       "      <td>42.53</td>\n",
       "      <td>15.37</td>\n",
       "    </tr>\n",
       "    <tr>\n",
       "      <th>3</th>\n",
       "      <td>carnarvon</td>\n",
       "      <td>75</td>\n",
       "      <td>ZA</td>\n",
       "      <td>2019-09-30 02:45:13</td>\n",
       "      <td>70</td>\n",
       "      <td>-30.97</td>\n",
       "      <td>22.13</td>\n",
       "      <td>43.79</td>\n",
       "      <td>19.08</td>\n",
       "    </tr>\n",
       "    <tr>\n",
       "      <th>5</th>\n",
       "      <td>dakar</td>\n",
       "      <td>40</td>\n",
       "      <td>SN</td>\n",
       "      <td>2019-09-30 02:43:17</td>\n",
       "      <td>88</td>\n",
       "      <td>14.69</td>\n",
       "      <td>-17.45</td>\n",
       "      <td>78.8</td>\n",
       "      <td>1.12</td>\n",
       "    </tr>\n",
       "  </tbody>\n",
       "</table>\n",
       "</div>"
      ],
      "text/plain": [
       "        City Cloudiness Country                Date Humidity    Lat     Lng  \\\n",
       "0    aklavik         75      CA 2019-09-30 02:45:07       52  68.22 -135.01   \n",
       "1     atuona         21      PF 2019-09-30 02:45:08       80   -9.8 -139.03   \n",
       "2   zelenets         98      RU 2019-09-30 02:45:13       74  53.83   48.02   \n",
       "3  carnarvon         75      ZA 2019-09-30 02:45:13       70 -30.97   22.13   \n",
       "5      dakar         40      SN 2019-09-30 02:43:17       88  14.69  -17.45   \n",
       "\n",
       "  Max Temp Wind Speed  \n",
       "0     44.6       3.36  \n",
       "1    79.25      20.27  \n",
       "2    42.53      15.37  \n",
       "3    43.79      19.08  \n",
       "5     78.8       1.12  "
      ]
     },
     "execution_count": 43,
     "metadata": {},
     "output_type": "execute_result"
    }
   ],
   "source": [
    "# Ignoring the rows that include missing data \n",
    "data_df.dropna(inplace= True)\n",
    "\n",
    "# Converting unix date format into readable version\n",
    "data_df['Date'] = pd.to_datetime(data_df['Date'],unit='s')\n",
    "\n",
    "# Display cleaned Data Frame\n",
    "data_df"
   ]
  },
  {
   "cell_type": "code",
   "execution_count": 5,
   "metadata": {},
   "outputs": [
    {
     "data": {
      "text/html": [
       "<div>\n",
       "<style scoped>\n",
       "    .dataframe tbody tr th:only-of-type {\n",
       "        vertical-align: middle;\n",
       "    }\n",
       "\n",
       "    .dataframe tbody tr th {\n",
       "        vertical-align: top;\n",
       "    }\n",
       "\n",
       "    .dataframe thead th {\n",
       "        text-align: right;\n",
       "    }\n",
       "</style>\n",
       "<table border=\"1\" class=\"dataframe\">\n",
       "  <thead>\n",
       "    <tr style=\"text-align: right;\">\n",
       "      <th></th>\n",
       "      <th>City</th>\n",
       "      <th>Cloudiness</th>\n",
       "      <th>Country</th>\n",
       "      <th>Date</th>\n",
       "      <th>Humidity</th>\n",
       "      <th>Lat</th>\n",
       "      <th>Lng</th>\n",
       "      <th>Max Temp</th>\n",
       "      <th>Wind Speed</th>\n",
       "    </tr>\n",
       "  </thead>\n",
       "  <tbody>\n",
       "    <tr>\n",
       "      <th>0</th>\n",
       "      <td>lompoc</td>\n",
       "      <td>1</td>\n",
       "      <td>US</td>\n",
       "      <td>1534984500</td>\n",
       "      <td>44</td>\n",
       "      <td>34.64</td>\n",
       "      <td>-120.46</td>\n",
       "      <td>77.00</td>\n",
       "      <td>11.41</td>\n",
       "    </tr>\n",
       "    <tr>\n",
       "      <th>1</th>\n",
       "      <td>klaksvik</td>\n",
       "      <td>92</td>\n",
       "      <td>FO</td>\n",
       "      <td>1534983600</td>\n",
       "      <td>100</td>\n",
       "      <td>62.23</td>\n",
       "      <td>-6.59</td>\n",
       "      <td>50.00</td>\n",
       "      <td>13.87</td>\n",
       "    </tr>\n",
       "    <tr>\n",
       "      <th>2</th>\n",
       "      <td>bisignano</td>\n",
       "      <td>0</td>\n",
       "      <td>IT</td>\n",
       "      <td>1534981800</td>\n",
       "      <td>88</td>\n",
       "      <td>39.50</td>\n",
       "      <td>16.27</td>\n",
       "      <td>66.20</td>\n",
       "      <td>5.82</td>\n",
       "    </tr>\n",
       "    <tr>\n",
       "      <th>3</th>\n",
       "      <td>hilo</td>\n",
       "      <td>90</td>\n",
       "      <td>US</td>\n",
       "      <td>1534984860</td>\n",
       "      <td>90</td>\n",
       "      <td>19.71</td>\n",
       "      <td>-155.08</td>\n",
       "      <td>77.00</td>\n",
       "      <td>8.05</td>\n",
       "    </tr>\n",
       "    <tr>\n",
       "      <th>4</th>\n",
       "      <td>rikitea</td>\n",
       "      <td>8</td>\n",
       "      <td>PF</td>\n",
       "      <td>1534986579</td>\n",
       "      <td>100</td>\n",
       "      <td>-23.12</td>\n",
       "      <td>-134.97</td>\n",
       "      <td>69.58</td>\n",
       "      <td>19.71</td>\n",
       "    </tr>\n",
       "  </tbody>\n",
       "</table>\n",
       "</div>"
      ],
      "text/plain": [
       "        City  Cloudiness Country        Date  Humidity    Lat     Lng  \\\n",
       "0     lompoc           1      US  1534984500        44  34.64 -120.46   \n",
       "1   klaksvik          92      FO  1534983600       100  62.23   -6.59   \n",
       "2  bisignano           0      IT  1534981800        88  39.50   16.27   \n",
       "3       hilo          90      US  1534984860        90  19.71 -155.08   \n",
       "4    rikitea           8      PF  1534986579       100 -23.12 -134.97   \n",
       "\n",
       "   Max Temp  Wind Speed  \n",
       "0     77.00       11.41  \n",
       "1     50.00       13.87  \n",
       "2     66.20        5.82  \n",
       "3     77.00        8.05  \n",
       "4     69.58       19.71  "
      ]
     },
     "execution_count": 5,
     "metadata": {},
     "output_type": "execute_result"
    }
   ],
   "source": []
  },
  {
   "cell_type": "markdown",
   "metadata": {},
   "source": [
    "### Plotting the Data\n",
    "* Use proper labeling of the plots using plot titles (including date of analysis) and axes labels.\n",
    "* Save the plotted figures as .pngs."
   ]
  },
  {
   "cell_type": "markdown",
   "metadata": {},
   "source": [
    "#### Latitude vs. Temperature Plot"
   ]
  },
  {
   "cell_type": "code",
   "execution_count": 50,
   "metadata": {},
   "outputs": [
    {
     "data": {
      "image/png": "[encoded data removed]",
      "text/plain": [
       "<Figure size 432x288 with 1 Axes>"
      ]
     },
     "metadata": {
      "needs_background": "light"
     },
     "output_type": "display_data"
    }
   ],
   "source": [
    "# Create scatter plot to compare Lattitude and Max Temp. of the randomly selected cities in the Data Frame\n",
    "plt.scatter(data_df[\"Lat\"], data_df[\"Max Temp\"], edgecolor = 'black')\n",
    "\n",
    "# Give the chart a title, x label, y label and grid\n",
    "plt.title(\"City Latitude vs. Max Temperature (09/29/2019)\")\n",
    "plt.xlabel(\"Latitude\")\n",
    "plt.ylabel(\"Max Temperature (F)\")\n",
    "\n",
    "# Plot grid\n",
    "plt.grid(True)\n",
    "\n",
    "#Plot vertical line at 0 latitude (equator)\n",
    "plt.axvline(x=0, color = 'black')\n",
    "\n",
    "# Save the Figure\n",
    "plt.savefig(r\"C:\\Users\\AG\\Documents\\SMU_Assignments\\Unit_06_API\\plots\\lat_and_max_temp.png\")\n",
    "\n",
    "# Show the Figure\n",
    "plt.show()"
   ]
  },
  {
   "cell_type": "markdown",
   "metadata": {},
   "source": [
    "#### Latitude vs. Humidity Plot"
   ]
  },
  {
   "cell_type": "code",
   "execution_count": 46,
   "metadata": {},
   "outputs": [
    {
     "data": {
      "image/png": "[encoded data removed]",
      "text/plain": [
       "<Figure size 432x288 with 1 Axes>"
      ]
     },
     "metadata": {
      "needs_background": "light"
     },
     "output_type": "display_data"
    }
   ],
   "source": [
    "# Create scatter plot to compare Lattitude and Max Temp. of the randomly selected cities in the Data Frame\n",
    "plt.scatter(data_df[\"Lat\"], data_df[\"Humidity\"], edgecolor = 'black')\n",
    "\n",
    "# Give the chart a title, x label, y label and grid\n",
    "plt.title(\"City Latitude vs. Humidity (09/29/2019)\")\n",
    "plt.xlabel(\"Latitude\")\n",
    "plt.ylabel(\"Humidity (%)\")\n",
    "\n",
    "# Plot grid\n",
    "plt.grid(True)\n",
    "\n",
    "#Plot vertical line at 0 latitude (equator)\n",
    "plt.axvline(x=0, color = 'black')\n",
    "\n",
    "# Save the Figure\n",
    "plt.savefig(r\"C:\\Users\\AG\\Documents\\SMU_Assignments\\Unit_06_API\\plots\\lat_and_humidity.png\")\n",
    "\n",
    "# Show the Figure\n",
    "plt.show()"
   ]
  },
  {
   "cell_type": "markdown",
   "metadata": {},
   "source": [
    "#### Latitude vs. Cloudiness Plot"
   ]
  },
  {
   "cell_type": "code",
   "execution_count": null,
   "metadata": {},
   "outputs": [],
   "source": [
    "# Create scatter plot to compare Lattitude and Max Temp. of the randomly selected cities in the Data Frame\n",
    "plt.scatter(data_df[\"Lat\"], data_df[\"Cloudiness\"], edgecolor = 'black')\n",
    "\n",
    "# Give the chart a title, x label, y label and grid\n",
    "plt.title(\"City Latitude vs. Cloudiness (09/29/2019)\")\n",
    "plt.xlabel(\"Latitude\")\n",
    "plt.ylabel(\"Cloudiness (%)\")\n",
    "\n",
    "# Plot grid\n",
    "plt.grid(True)\n",
    "\n",
    "#Plot vertical line at 0 latitude (equator)\n",
    "plt.axvline(x=0, color = 'black')\n",
    "\n",
    "# Save the Figure\n",
    "plt.savefig(r\"C:\\Users\\AG\\Documents\\SMU_Assignments\\Unit_06_API\\plots\\lat_and_cloudiness.png\")\n",
    "\n",
    "# Show the Figure\n",
    "plt.show()"
   ]
  },
  {
   "cell_type": "markdown",
   "metadata": {},
   "source": [
    "#### Latitude vs. Wind Speed Plot"
   ]
  },
  {
   "cell_type": "code",
   "execution_count": null,
   "metadata": {},
   "outputs": [],
   "source": [
    "# Create scatter plot to compare Lattitude and Max Temp. of the randomly selected cities in the Data Frame\n",
    "plt.scatter(data_df[\"Lat\"], data_df[\"Wind Speed\"], edgecolor = 'black')\n",
    "\n",
    "# Give the chart a title, x label, y label and grid\n",
    "plt.title(\"City Latitude vs. Wind Speed (mph) (09/29/2019)\")\n",
    "plt.xlabel(\"Latitude\")\n",
    "plt.ylabel(\"Wind Speed (mph)\")\n",
    "\n",
    "# Plot grid\n",
    "plt.grid(True)\n",
    "\n",
    "# Plot vertical line at 0 latitude (equator)\n",
    "plt.axvline(x=0, color = 'black')\n",
    "\n",
    "# Save the Figure\n",
    "plt.savefig(r\"C:\\Users\\AG\\Documents\\SMU_Assignments\\Unit_06_API\\plots\\lat_and_windspeed.png\")\n",
    "\n",
    "# Show the Figure\n",
    "plt.show()"
   ]
  }
 ],
 "metadata": {
  "anaconda-cloud": {},
  "kernel_info": {
   "name": "python3"
  },
  "kernelspec": {
   "display_name": "Python 3",
   "language": "python",
   "name": "python3"
  },
  "language_info": {
   "codemirror_mode": {
    "name": "ipython",
    "version": 3
   },
   "file_extension": ".py",
   "mimetype": "text/x-python",
   "name": "python",
   "nbconvert_exporter": "python",
   "pygments_lexer": "ipython3",
   "version": "3.7.1"
  },
  "nteract": {
   "version": "0.12.3"
  }
 },
 "nbformat": 4,
 "nbformat_minor": 2
}
